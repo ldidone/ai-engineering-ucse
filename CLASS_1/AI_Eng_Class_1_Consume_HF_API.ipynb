{
  "nbformat": 4,
  "nbformat_minor": 0,
  "metadata": {
    "colab": {
      "provenance": []
    },
    "kernelspec": {
      "name": "python3",
      "display_name": "Python 3"
    },
    "language_info": {
      "name": "python"
    },
    "widgets": {
      "application/vnd.jupyter.widget-state+json": {
        "8b09b4cab4bc46f8a17cdcea126f2fa9": {
          "model_module": "@jupyter-widgets/controls",
          "model_name": "VBoxModel",
          "model_module_version": "1.5.0",
          "state": {
            "_dom_classes": [],
            "_model_module": "@jupyter-widgets/controls",
            "_model_module_version": "1.5.0",
            "_model_name": "VBoxModel",
            "_view_count": null,
            "_view_module": "@jupyter-widgets/controls",
            "_view_module_version": "1.5.0",
            "_view_name": "VBoxView",
            "box_style": "",
            "children": [],
            "layout": "IPY_MODEL_a4fb89811bcf439284871c596f7b65f2"
          }
        },
        "51f0571084f64a61b814261e16127c09": {
          "model_module": "@jupyter-widgets/controls",
          "model_name": "HTMLModel",
          "model_module_version": "1.5.0",
          "state": {
            "_dom_classes": [],
            "_model_module": "@jupyter-widgets/controls",
            "_model_module_version": "1.5.0",
            "_model_name": "HTMLModel",
            "_view_count": null,
            "_view_module": "@jupyter-widgets/controls",
            "_view_module_version": "1.5.0",
            "_view_name": "HTMLView",
            "description": "",
            "description_tooltip": null,
            "layout": "IPY_MODEL_7732f633ffdb4188837b0501a632dc16",
            "placeholder": "​",
            "style": "IPY_MODEL_4f6ff2dc13854c4583f609923cc8f369",
            "value": "<center> <img\nsrc=https://huggingface.co/front/assets/huggingface_logo-noborder.svg\nalt='Hugging Face'> <br> Copy a token from <a\nhref=\"https://huggingface.co/settings/tokens\" target=\"_blank\">your Hugging Face\ntokens page</a> and paste it below. <br> Immediately click login after copying\nyour token or it might be stored in plain text in this notebook file. </center>"
          }
        },
        "cb8280c5ad7a42a1a55e4dd3915f84ab": {
          "model_module": "@jupyter-widgets/controls",
          "model_name": "PasswordModel",
          "model_module_version": "1.5.0",
          "state": {
            "_dom_classes": [],
            "_model_module": "@jupyter-widgets/controls",
            "_model_module_version": "1.5.0",
            "_model_name": "PasswordModel",
            "_view_count": null,
            "_view_module": "@jupyter-widgets/controls",
            "_view_module_version": "1.5.0",
            "_view_name": "PasswordView",
            "continuous_update": true,
            "description": "Token:",
            "description_tooltip": null,
            "disabled": false,
            "layout": "IPY_MODEL_6723da0ba24243d3a38ca1e588c4571e",
            "placeholder": "​",
            "style": "IPY_MODEL_177e592ef60d4b629ab9df825322c19b",
            "value": ""
          }
        },
        "667365dcdfa74fb69932ae3ba7bb6f75": {
          "model_module": "@jupyter-widgets/controls",
          "model_name": "CheckboxModel",
          "model_module_version": "1.5.0",
          "state": {
            "_dom_classes": [],
            "_model_module": "@jupyter-widgets/controls",
            "_model_module_version": "1.5.0",
            "_model_name": "CheckboxModel",
            "_view_count": null,
            "_view_module": "@jupyter-widgets/controls",
            "_view_module_version": "1.5.0",
            "_view_name": "CheckboxView",
            "description": "Add token as git credential?",
            "description_tooltip": null,
            "disabled": false,
            "indent": true,
            "layout": "IPY_MODEL_53fa9120b0d44491add2063b87124e36",
            "style": "IPY_MODEL_450dd202a2e94b59a2b6a839c4789179",
            "value": true
          }
        },
        "115f4170d6fe4dadbbb20a17ca2b9c9c": {
          "model_module": "@jupyter-widgets/controls",
          "model_name": "ButtonModel",
          "model_module_version": "1.5.0",
          "state": {
            "_dom_classes": [],
            "_model_module": "@jupyter-widgets/controls",
            "_model_module_version": "1.5.0",
            "_model_name": "ButtonModel",
            "_view_count": null,
            "_view_module": "@jupyter-widgets/controls",
            "_view_module_version": "1.5.0",
            "_view_name": "ButtonView",
            "button_style": "",
            "description": "Login",
            "disabled": false,
            "icon": "",
            "layout": "IPY_MODEL_381dbd2bcf5e45b59ffe0e5776505023",
            "style": "IPY_MODEL_92f82869e7494a4cbd565d174f111cd9",
            "tooltip": ""
          }
        },
        "67f5ef150b0d40f2b371cffcd5f5b2ad": {
          "model_module": "@jupyter-widgets/controls",
          "model_name": "HTMLModel",
          "model_module_version": "1.5.0",
          "state": {
            "_dom_classes": [],
            "_model_module": "@jupyter-widgets/controls",
            "_model_module_version": "1.5.0",
            "_model_name": "HTMLModel",
            "_view_count": null,
            "_view_module": "@jupyter-widgets/controls",
            "_view_module_version": "1.5.0",
            "_view_name": "HTMLView",
            "description": "",
            "description_tooltip": null,
            "layout": "IPY_MODEL_e0d8feae1e1a4d95922dafa14a0cf051",
            "placeholder": "​",
            "style": "IPY_MODEL_a77a6ae96234483d8d16164b458410bc",
            "value": "\n<b>Pro Tip:</b> If you don't already have one, you can create a dedicated\n'notebooks' token with 'write' access, that you can then easily reuse for all\nnotebooks. </center>"
          }
        },
        "a4fb89811bcf439284871c596f7b65f2": {
          "model_module": "@jupyter-widgets/base",
          "model_name": "LayoutModel",
          "model_module_version": "1.2.0",
          "state": {
            "_model_module": "@jupyter-widgets/base",
            "_model_module_version": "1.2.0",
            "_model_name": "LayoutModel",
            "_view_count": null,
            "_view_module": "@jupyter-widgets/base",
            "_view_module_version": "1.2.0",
            "_view_name": "LayoutView",
            "align_content": null,
            "align_items": "center",
            "align_self": null,
            "border": null,
            "bottom": null,
            "display": "flex",
            "flex": null,
            "flex_flow": "column",
            "grid_area": null,
            "grid_auto_columns": null,
            "grid_auto_flow": null,
            "grid_auto_rows": null,
            "grid_column": null,
            "grid_gap": null,
            "grid_row": null,
            "grid_template_areas": null,
            "grid_template_columns": null,
            "grid_template_rows": null,
            "height": null,
            "justify_content": null,
            "justify_items": null,
            "left": null,
            "margin": null,
            "max_height": null,
            "max_width": null,
            "min_height": null,
            "min_width": null,
            "object_fit": null,
            "object_position": null,
            "order": null,
            "overflow": null,
            "overflow_x": null,
            "overflow_y": null,
            "padding": null,
            "right": null,
            "top": null,
            "visibility": null,
            "width": "50%"
          }
        },
        "7732f633ffdb4188837b0501a632dc16": {
          "model_module": "@jupyter-widgets/base",
          "model_name": "LayoutModel",
          "model_module_version": "1.2.0",
          "state": {
            "_model_module": "@jupyter-widgets/base",
            "_model_module_version": "1.2.0",
            "_model_name": "LayoutModel",
            "_view_count": null,
            "_view_module": "@jupyter-widgets/base",
            "_view_module_version": "1.2.0",
            "_view_name": "LayoutView",
            "align_content": null,
            "align_items": null,
            "align_self": null,
            "border": null,
            "bottom": null,
            "display": null,
            "flex": null,
            "flex_flow": null,
            "grid_area": null,
            "grid_auto_columns": null,
            "grid_auto_flow": null,
            "grid_auto_rows": null,
            "grid_column": null,
            "grid_gap": null,
            "grid_row": null,
            "grid_template_areas": null,
            "grid_template_columns": null,
            "grid_template_rows": null,
            "height": null,
            "justify_content": null,
            "justify_items": null,
            "left": null,
            "margin": null,
            "max_height": null,
            "max_width": null,
            "min_height": null,
            "min_width": null,
            "object_fit": null,
            "object_position": null,
            "order": null,
            "overflow": null,
            "overflow_x": null,
            "overflow_y": null,
            "padding": null,
            "right": null,
            "top": null,
            "visibility": null,
            "width": null
          }
        },
        "4f6ff2dc13854c4583f609923cc8f369": {
          "model_module": "@jupyter-widgets/controls",
          "model_name": "DescriptionStyleModel",
          "model_module_version": "1.5.0",
          "state": {
            "_model_module": "@jupyter-widgets/controls",
            "_model_module_version": "1.5.0",
            "_model_name": "DescriptionStyleModel",
            "_view_count": null,
            "_view_module": "@jupyter-widgets/base",
            "_view_module_version": "1.2.0",
            "_view_name": "StyleView",
            "description_width": ""
          }
        },
        "6723da0ba24243d3a38ca1e588c4571e": {
          "model_module": "@jupyter-widgets/base",
          "model_name": "LayoutModel",
          "model_module_version": "1.2.0",
          "state": {
            "_model_module": "@jupyter-widgets/base",
            "_model_module_version": "1.2.0",
            "_model_name": "LayoutModel",
            "_view_count": null,
            "_view_module": "@jupyter-widgets/base",
            "_view_module_version": "1.2.0",
            "_view_name": "LayoutView",
            "align_content": null,
            "align_items": null,
            "align_self": null,
            "border": null,
            "bottom": null,
            "display": null,
            "flex": null,
            "flex_flow": null,
            "grid_area": null,
            "grid_auto_columns": null,
            "grid_auto_flow": null,
            "grid_auto_rows": null,
            "grid_column": null,
            "grid_gap": null,
            "grid_row": null,
            "grid_template_areas": null,
            "grid_template_columns": null,
            "grid_template_rows": null,
            "height": null,
            "justify_content": null,
            "justify_items": null,
            "left": null,
            "margin": null,
            "max_height": null,
            "max_width": null,
            "min_height": null,
            "min_width": null,
            "object_fit": null,
            "object_position": null,
            "order": null,
            "overflow": null,
            "overflow_x": null,
            "overflow_y": null,
            "padding": null,
            "right": null,
            "top": null,
            "visibility": null,
            "width": null
          }
        },
        "177e592ef60d4b629ab9df825322c19b": {
          "model_module": "@jupyter-widgets/controls",
          "model_name": "DescriptionStyleModel",
          "model_module_version": "1.5.0",
          "state": {
            "_model_module": "@jupyter-widgets/controls",
            "_model_module_version": "1.5.0",
            "_model_name": "DescriptionStyleModel",
            "_view_count": null,
            "_view_module": "@jupyter-widgets/base",
            "_view_module_version": "1.2.0",
            "_view_name": "StyleView",
            "description_width": ""
          }
        },
        "53fa9120b0d44491add2063b87124e36": {
          "model_module": "@jupyter-widgets/base",
          "model_name": "LayoutModel",
          "model_module_version": "1.2.0",
          "state": {
            "_model_module": "@jupyter-widgets/base",
            "_model_module_version": "1.2.0",
            "_model_name": "LayoutModel",
            "_view_count": null,
            "_view_module": "@jupyter-widgets/base",
            "_view_module_version": "1.2.0",
            "_view_name": "LayoutView",
            "align_content": null,
            "align_items": null,
            "align_self": null,
            "border": null,
            "bottom": null,
            "display": null,
            "flex": null,
            "flex_flow": null,
            "grid_area": null,
            "grid_auto_columns": null,
            "grid_auto_flow": null,
            "grid_auto_rows": null,
            "grid_column": null,
            "grid_gap": null,
            "grid_row": null,
            "grid_template_areas": null,
            "grid_template_columns": null,
            "grid_template_rows": null,
            "height": null,
            "justify_content": null,
            "justify_items": null,
            "left": null,
            "margin": null,
            "max_height": null,
            "max_width": null,
            "min_height": null,
            "min_width": null,
            "object_fit": null,
            "object_position": null,
            "order": null,
            "overflow": null,
            "overflow_x": null,
            "overflow_y": null,
            "padding": null,
            "right": null,
            "top": null,
            "visibility": null,
            "width": null
          }
        },
        "450dd202a2e94b59a2b6a839c4789179": {
          "model_module": "@jupyter-widgets/controls",
          "model_name": "DescriptionStyleModel",
          "model_module_version": "1.5.0",
          "state": {
            "_model_module": "@jupyter-widgets/controls",
            "_model_module_version": "1.5.0",
            "_model_name": "DescriptionStyleModel",
            "_view_count": null,
            "_view_module": "@jupyter-widgets/base",
            "_view_module_version": "1.2.0",
            "_view_name": "StyleView",
            "description_width": ""
          }
        },
        "381dbd2bcf5e45b59ffe0e5776505023": {
          "model_module": "@jupyter-widgets/base",
          "model_name": "LayoutModel",
          "model_module_version": "1.2.0",
          "state": {
            "_model_module": "@jupyter-widgets/base",
            "_model_module_version": "1.2.0",
            "_model_name": "LayoutModel",
            "_view_count": null,
            "_view_module": "@jupyter-widgets/base",
            "_view_module_version": "1.2.0",
            "_view_name": "LayoutView",
            "align_content": null,
            "align_items": null,
            "align_self": null,
            "border": null,
            "bottom": null,
            "display": null,
            "flex": null,
            "flex_flow": null,
            "grid_area": null,
            "grid_auto_columns": null,
            "grid_auto_flow": null,
            "grid_auto_rows": null,
            "grid_column": null,
            "grid_gap": null,
            "grid_row": null,
            "grid_template_areas": null,
            "grid_template_columns": null,
            "grid_template_rows": null,
            "height": null,
            "justify_content": null,
            "justify_items": null,
            "left": null,
            "margin": null,
            "max_height": null,
            "max_width": null,
            "min_height": null,
            "min_width": null,
            "object_fit": null,
            "object_position": null,
            "order": null,
            "overflow": null,
            "overflow_x": null,
            "overflow_y": null,
            "padding": null,
            "right": null,
            "top": null,
            "visibility": null,
            "width": null
          }
        },
        "92f82869e7494a4cbd565d174f111cd9": {
          "model_module": "@jupyter-widgets/controls",
          "model_name": "ButtonStyleModel",
          "model_module_version": "1.5.0",
          "state": {
            "_model_module": "@jupyter-widgets/controls",
            "_model_module_version": "1.5.0",
            "_model_name": "ButtonStyleModel",
            "_view_count": null,
            "_view_module": "@jupyter-widgets/base",
            "_view_module_version": "1.2.0",
            "_view_name": "StyleView",
            "button_color": null,
            "font_weight": ""
          }
        },
        "e0d8feae1e1a4d95922dafa14a0cf051": {
          "model_module": "@jupyter-widgets/base",
          "model_name": "LayoutModel",
          "model_module_version": "1.2.0",
          "state": {
            "_model_module": "@jupyter-widgets/base",
            "_model_module_version": "1.2.0",
            "_model_name": "LayoutModel",
            "_view_count": null,
            "_view_module": "@jupyter-widgets/base",
            "_view_module_version": "1.2.0",
            "_view_name": "LayoutView",
            "align_content": null,
            "align_items": null,
            "align_self": null,
            "border": null,
            "bottom": null,
            "display": null,
            "flex": null,
            "flex_flow": null,
            "grid_area": null,
            "grid_auto_columns": null,
            "grid_auto_flow": null,
            "grid_auto_rows": null,
            "grid_column": null,
            "grid_gap": null,
            "grid_row": null,
            "grid_template_areas": null,
            "grid_template_columns": null,
            "grid_template_rows": null,
            "height": null,
            "justify_content": null,
            "justify_items": null,
            "left": null,
            "margin": null,
            "max_height": null,
            "max_width": null,
            "min_height": null,
            "min_width": null,
            "object_fit": null,
            "object_position": null,
            "order": null,
            "overflow": null,
            "overflow_x": null,
            "overflow_y": null,
            "padding": null,
            "right": null,
            "top": null,
            "visibility": null,
            "width": null
          }
        },
        "a77a6ae96234483d8d16164b458410bc": {
          "model_module": "@jupyter-widgets/controls",
          "model_name": "DescriptionStyleModel",
          "model_module_version": "1.5.0",
          "state": {
            "_model_module": "@jupyter-widgets/controls",
            "_model_module_version": "1.5.0",
            "_model_name": "DescriptionStyleModel",
            "_view_count": null,
            "_view_module": "@jupyter-widgets/base",
            "_view_module_version": "1.2.0",
            "_view_name": "StyleView",
            "description_width": ""
          }
        },
        "e49705ae6267417498078196f5e52201": {
          "model_module": "@jupyter-widgets/controls",
          "model_name": "LabelModel",
          "model_module_version": "1.5.0",
          "state": {
            "_dom_classes": [],
            "_model_module": "@jupyter-widgets/controls",
            "_model_module_version": "1.5.0",
            "_model_name": "LabelModel",
            "_view_count": null,
            "_view_module": "@jupyter-widgets/controls",
            "_view_module_version": "1.5.0",
            "_view_name": "LabelView",
            "description": "",
            "description_tooltip": null,
            "layout": "IPY_MODEL_7d99ee8488734854a17b0e6e358f6265",
            "placeholder": "​",
            "style": "IPY_MODEL_5489fa92dd8d462f8d8fce0b47c07554",
            "value": "Connecting..."
          }
        },
        "7d99ee8488734854a17b0e6e358f6265": {
          "model_module": "@jupyter-widgets/base",
          "model_name": "LayoutModel",
          "model_module_version": "1.2.0",
          "state": {
            "_model_module": "@jupyter-widgets/base",
            "_model_module_version": "1.2.0",
            "_model_name": "LayoutModel",
            "_view_count": null,
            "_view_module": "@jupyter-widgets/base",
            "_view_module_version": "1.2.0",
            "_view_name": "LayoutView",
            "align_content": null,
            "align_items": null,
            "align_self": null,
            "border": null,
            "bottom": null,
            "display": null,
            "flex": null,
            "flex_flow": null,
            "grid_area": null,
            "grid_auto_columns": null,
            "grid_auto_flow": null,
            "grid_auto_rows": null,
            "grid_column": null,
            "grid_gap": null,
            "grid_row": null,
            "grid_template_areas": null,
            "grid_template_columns": null,
            "grid_template_rows": null,
            "height": null,
            "justify_content": null,
            "justify_items": null,
            "left": null,
            "margin": null,
            "max_height": null,
            "max_width": null,
            "min_height": null,
            "min_width": null,
            "object_fit": null,
            "object_position": null,
            "order": null,
            "overflow": null,
            "overflow_x": null,
            "overflow_y": null,
            "padding": null,
            "right": null,
            "top": null,
            "visibility": null,
            "width": null
          }
        },
        "5489fa92dd8d462f8d8fce0b47c07554": {
          "model_module": "@jupyter-widgets/controls",
          "model_name": "DescriptionStyleModel",
          "model_module_version": "1.5.0",
          "state": {
            "_model_module": "@jupyter-widgets/controls",
            "_model_module_version": "1.5.0",
            "_model_name": "DescriptionStyleModel",
            "_view_count": null,
            "_view_module": "@jupyter-widgets/base",
            "_view_module_version": "1.2.0",
            "_view_name": "StyleView",
            "description_width": ""
          }
        }
      }
    }
  },
  "cells": [
    {
      "cell_type": "markdown",
      "source": [
        "# Code example to consume LLM via HF API 🤗\n",
        "![hf_logo.png](data:image/png;base64,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)"
      ],
      "metadata": {
        "id": "Ld7h5_1_IlR6"
      }
    },
    {
      "cell_type": "markdown",
      "source": [
        "- Notebook based on the ones provided in the [HF Agents Course](https://huggingface.co/learn/agents-course/unit0/introduction)"
      ],
      "metadata": {
        "id": "UrZM3SyPOIwQ"
      }
    },
    {
      "cell_type": "markdown",
      "source": [
        "## Serverless API\n",
        "\n",
        "In the Hugging Face ecosystem, there is a convenient feature called Serverless API that allows you to easily run inference on many models. There's no installation or deployment required.\n",
        "\n",
        "To run this notebook, **you need a Hugging Face token** that you can get from https://hf.co/settings/tokens. If you are running this notebook on Google Colab, you can set it up in the \"settings\" tab under \"secrets\". Make sure to call it \"HF_TOKEN\".\n",
        "\n",
        "You also need to request access to [the Meta Llama models](meta-llama/Llama-3.2-3B-Instruct), if you haven't done it before. Approval usually takes up to an hour."
      ],
      "metadata": {
        "id": "MBZiUPZUJVCC"
      }
    },
    {
      "cell_type": "markdown",
      "source": [
        "- [Login docs](https://huggingface.co/docs/huggingface_hub/package_reference/authentication#huggingface_hub.notebook_login)"
      ],
      "metadata": {
        "id": "PvvIIiXLO-me"
      }
    },
    {
      "cell_type": "code",
      "execution_count": null,
      "metadata": {
        "colab": {
          "base_uri": "https://localhost:8080/",
          "height": 17,
          "referenced_widgets": [
            "8b09b4cab4bc46f8a17cdcea126f2fa9",
            "51f0571084f64a61b814261e16127c09",
            "cb8280c5ad7a42a1a55e4dd3915f84ab",
            "667365dcdfa74fb69932ae3ba7bb6f75",
            "115f4170d6fe4dadbbb20a17ca2b9c9c",
            "67f5ef150b0d40f2b371cffcd5f5b2ad",
            "a4fb89811bcf439284871c596f7b65f2",
            "7732f633ffdb4188837b0501a632dc16",
            "4f6ff2dc13854c4583f609923cc8f369",
            "6723da0ba24243d3a38ca1e588c4571e",
            "177e592ef60d4b629ab9df825322c19b",
            "53fa9120b0d44491add2063b87124e36",
            "450dd202a2e94b59a2b6a839c4789179",
            "381dbd2bcf5e45b59ffe0e5776505023",
            "92f82869e7494a4cbd565d174f111cd9",
            "e0d8feae1e1a4d95922dafa14a0cf051",
            "a77a6ae96234483d8d16164b458410bc",
            "e49705ae6267417498078196f5e52201",
            "7d99ee8488734854a17b0e6e358f6265",
            "5489fa92dd8d462f8d8fce0b47c07554"
          ]
        },
        "id": "kMZ9uPFeIajw",
        "outputId": "5b3bbbda-aec0-4870-ee17-0a6e05903870"
      },
      "outputs": [
        {
          "output_type": "display_data",
          "data": {
            "text/plain": [
              "VBox(children=(HTML(value='<center> <img\\nsrc=https://huggingface.co/front/assets/huggingface_logo-noborder.sv…"
            ],
            "application/vnd.jupyter.widget-view+json": {
              "version_major": 2,
              "version_minor": 0,
              "model_id": "8b09b4cab4bc46f8a17cdcea126f2fa9"
            }
          },
          "metadata": {}
        }
      ],
      "source": [
        "# Login into HF\n",
        "\n",
        "from huggingface_hub import notebook_login\n",
        "\n",
        "notebook_login()"
      ]
    },
    {
      "cell_type": "code",
      "source": [
        "import os\n",
        "from huggingface_hub import InferenceClient\n",
        "\n",
        "client = InferenceClient(\"meta-llama/Llama-3.2-3B-Instruct\")"
      ],
      "metadata": {
        "id": "gDvho4AnJeHa"
      },
      "execution_count": null,
      "outputs": []
    },
    {
      "cell_type": "code",
      "source": [
        "output = client.chat.completions.create(\n",
        "    messages=[\n",
        "        {\"role\": \"user\", \"content\": \"The best football player of the history is \"},\n",
        "    ],\n",
        "    stream=False,\n",
        "    max_tokens=100,\n",
        ")\n",
        "\n",
        "print(output.choices[0].message.content)"
      ],
      "metadata": {
        "colab": {
          "base_uri": "https://localhost:8080/"
        },
        "id": "LCHQSNxXJ5vw",
        "outputId": "bcc60f65-0961-4139-9737-7f12545b3050"
      },
      "execution_count": null,
      "outputs": [
        {
          "output_type": "stream",
          "name": "stderr",
          "text": [
            "/usr/local/lib/python3.11/dist-packages/huggingface_hub/utils/_auth.py:94: UserWarning: \n",
            "The secret `HF_TOKEN` does not exist in your Colab secrets.\n",
            "To authenticate with the Hugging Face Hub, create a token in your settings tab (https://huggingface.co/settings/tokens), set it as secret in your Google Colab and restart your session.\n",
            "You will be able to reuse this secret in all of your notebooks.\n",
            "Please note that authentication is recommended but still optional to access public models or datasets.\n",
            "  warnings.warn(\n"
          ]
        },
        {
          "output_type": "stream",
          "name": "stdout",
          "text": [
            "A question that can spark a lot of debate!\n",
            "\n",
            "There are many great football players throughout history, and opinions on who is the best can vary depending on personal taste, team loyalty, and individual achievements. Here are some of the most commonly cited candidates:\n",
            "\n",
            "1. Lionel Messi: Regarded by many as the greatest player of all time, Messi has won six Ballon d'Or awards, ten La Liga titles, and four UEFA Champions League titles.\n",
            "2. Cristiano Ronaldo: A five-time Ballon\n"
          ]
        }
      ]
    },
    {
      "cell_type": "markdown",
      "source": [
        "## Hugging Face Inference API create Method Parameters:\n",
        "- [Docs](https://huggingface.co/docs/inference-providers/en/tasks/chat-completion)\n",
        "\n",
        "### 1. messages (required)\n",
        "\n",
        "\n",
        "```\n",
        "messages=[\n",
        "    {\"role\": \"user\", \"content\": \"The best football player of the history is \"},\n",
        "]\n",
        "```\n",
        "\n",
        "\n",
        "- Purpose: A list of message objects that form the conversation history\n",
        "- Structure: Each message has:\n",
        "  - role: Can be \"user\", \"assistant\", or \"system\"\n",
        "  - content: The actual text content of the message\n",
        "Usage: This creates the context for the model to understand the conversation flow and respond appropriately\n",
        "### 2. stream (optional)\n",
        "`stream=False`\n",
        "\n",
        "- Purpose: Controls whether the response is streamed or returned all at once\n",
        "- Values:\n",
        "  - True: Returns a streaming response (useful for real-time applications)\n",
        "  - False: Returns the complete response at once (default)\n",
        "- Usage: When False, you get the full response immediately; when True, you get chunks of the response as they're generated.\n",
        "\n",
        "### 3. max_tokens (optional)\n",
        "\n",
        "\n",
        "```\n",
        "max_tokens=100\n",
        "```\n",
        "\n",
        "- Purpose: Limits the maximum number of tokens in the generated response\n",
        "- Type: Integer\n",
        "- Usage: Prevents the model from generating excessively long responses and helps control costs\n",
        "- Note: This is a maximum limit; the model may generate fewer tokens if it reaches a natural stopping point\n",
        "\n",
        "###Additional Parameters (not shown in your example but commonly used):\n",
        "\n",
        "#### 4. temperature (optional)\n",
        "- Purpose: Controls randomness in the response generation\n",
        "- Range: 0.0 to 2.0\n",
        "- Usage:\n",
        "  - Lower values (0.0-0.3): More deterministic, focused responses\n",
        "  - Higher values (0.7-1.0): More creative, diverse responses\n",
        "\n",
        "#### 5. top_p (optional)\n",
        "- Purpose: Nucleus sampling parameter for controlling response diversity\n",
        "- Range: 0.0 to 1.0\n",
        "- Usage: Controls the cumulative probability of tokens considered for generation\n",
        "\n",
        "#### 6. top_k (optional)\n",
        "- Purpose: Limits the number of highest probability tokens to consider\n",
        "- Type: Integer\n",
        "- Usage: Works with top_p to control response generation\n",
        "\n",
        "#### 7. stop (optional)\n",
        "- Purpose: Specifies sequences that should stop the generation\n",
        "- Type: List of strings\n",
        "- Usage: Useful for controlling where the response ends\n",
        "\n",
        "#### 8. frequency_penalty (optional)\n",
        "- Purpose: Reduces the likelihood of repeating the same information\n",
        "- Range: -2.0 to 2.0\n",
        "- Usage: Helps prevent repetitive responses\n",
        "\n",
        "#### 9. presence_penalty (optional)\n",
        "- Purpose: Encourages the model to talk about new topics\n",
        "- Range: -2.0 to 2.0\n",
        "- Usage: Helps maintain conversation diversity\n",
        "\n",
        "\n",
        "### Example with more parameters:"
      ],
      "metadata": {
        "id": "I9JX-MsNL5y5"
      }
    },
    {
      "cell_type": "code",
      "source": [
        "output = client.chat.completions.create(\n",
        "    messages=[\n",
        "        {\"role\": \"user\", \"content\": \"The best football player of the history is \"},\n",
        "    ],\n",
        "    stream=False,\n",
        "    max_tokens=256,\n",
        "    temperature=0.7,\n",
        "    top_p=0.9,\n",
        "    frequency_penalty=0.1,\n",
        "    presence_penalty=0.1\n",
        ")\n",
        "print(output.choices[0].message.content)"
      ],
      "metadata": {
        "colab": {
          "base_uri": "https://localhost:8080/"
        },
        "id": "MUZK91vRKX-g",
        "outputId": "bc5098c0-919f-422b-c67d-a24f9a0ed962"
      },
      "execution_count": null,
      "outputs": [
        {
          "output_type": "stream",
          "name": "stdout",
          "text": [
            "A question that sparks debate among football fans!\n",
            "\n",
            "There is no definitive answer to this question, as opinions on the best football player of all time vary depending on personal taste, team loyalty, and generational differences. However, here are some of the most commonly mentioned candidates:\n",
            "\n",
            "1. Lionel Messi: Regarded by many as the greatest player of all time, Messi has won numerous accolades, including six Ballon d'Or awards, ten La Liga titles, and four UEFA Champions League titles.\n",
            "2. Cristiano Ronaldo: A five-time Ballon d'Or winner, Ronaldo has consistently dominated the sport, winning multiple titles with Manchester United, Real Madrid, and Juventus.\n",
            "3. Diego Maradona: A legendary Argentine midfielder, Maradona led Argentina to World Cup victory in 1986 and is remembered for his exceptional dribbling skills and vision on the pitch.\n",
            "4. Johan Cruyff: A Dutch football icon, Cruyff is credited with revolutionizing the game with his innovative playing style and philosophical approach to the sport.\n",
            "5. Pele: A three-time World Cup winner with Brazil, Pele is widely regarded as one of the greatest players of all time, known for his speed, skill, and scoring ability.\n",
            "\n",
            "Other notable mentions include:\n",
            "\n",
            "* Zined\n"
          ]
        }
      ]
    },
    {
      "cell_type": "code",
      "source": [],
      "metadata": {
        "id": "Om7snADVLzUw"
      },
      "execution_count": null,
      "outputs": []
    }
  ]
}